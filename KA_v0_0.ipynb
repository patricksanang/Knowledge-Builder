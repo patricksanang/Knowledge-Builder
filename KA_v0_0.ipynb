{
  "cells": [
    {
      "cell_type": "markdown",
      "metadata": {
        "id": "view-in-github",
        "colab_type": "text"
      },
      "source": [
        "<a href=\"https://colab.research.google.com/github/patricksanang/Knowledge-Builder/blob/main/KA_v0_0.ipynb\" target=\"_parent\"><img src=\"https://colab.research.google.com/assets/colab-badge.svg\" alt=\"Open In Colab\"/></a>"
      ]
    },
    {
      "cell_type": "code",
      "source": [
        "!pip install openai\n",
        "!pip install langchain\n"
      ],
      "metadata": {
        "id": "rBhcvIL4-25W"
      },
      "id": "rBhcvIL4-25W",
      "execution_count": null,
      "outputs": []
    },
    {
      "cell_type": "code",
      "execution_count": null,
      "id": "7028754e",
      "metadata": {
        "id": "7028754e"
      },
      "outputs": [],
      "source": [
        "import openai\n",
        "import os\n",
        "\n",
        "from langchain.chains import QAGenerationChain\n",
        "from langchain.llms import OpenAI\n",
        "from langchain.document_loaders import TextLoader\n",
        "from langchain.text_splitter import RecursiveCharacterTextSplitter, TextSplitter\n",
        "\n",
        "os.environ[\"OPENAI_API_KEY\"] = \"\"\n",
        "\n",
        "# Initialize the language model\n",
        "model = OpenAI()"
      ]
    },
    {
      "cell_type": "code",
      "source": [
        "#Document loading\n",
        "text_splitter =  RecursiveCharacterTextSplitter(chunk_overlap=500, chunk_size=2000)\n",
        "loader = TextLoader(\"./test.txt\")\n",
        "doc = loader.load()[0]"
      ],
      "metadata": {
        "id": "MkEKARHC9Mc6"
      },
      "id": "MkEKARHC9Mc6",
      "execution_count": null,
      "outputs": []
    },
    {
      "cell_type": "code",
      "source": [
        "# Creation of the QA Generator Chain\n",
        "qa_chain = QAGenerationChain.from_llm(llm=model, text_splitter=text_splitter)"
      ],
      "metadata": {
        "id": "T2out_7s5mwA"
      },
      "id": "T2out_7s5mwA",
      "execution_count": null,
      "outputs": []
    },
    {
      "cell_type": "code",
      "source": [
        "#function to generate QA\n",
        "def generateQAquestions(nbqtogenerate, chain, context):\n",
        "  QAlist = []\n",
        "  if nbqtogenerate == 0:\n",
        "    return QAlist\n",
        "\n",
        "  for i in range(nbqtogenerate-1):\n",
        "    questions = chain.run(context)\n",
        "    QAlist.append(questions[0])\n",
        "  return QAlist"
      ],
      "metadata": {
        "id": "dN8fN1cb6wEy"
      },
      "id": "dN8fN1cb6wEy",
      "execution_count": null,
      "outputs": []
    },
    {
      "cell_type": "code",
      "source": [
        "qas = generateQAquestions(4, qa_chain, doc.page_content)\n",
        "\n",
        "print(qas)"
      ],
      "metadata": {
        "colab": {
          "base_uri": "https://localhost:8080/"
        },
        "id": "NWQaP_txC9j1",
        "outputId": "ba3eb842-ee1b-4087-873d-6f29516abceb"
      },
      "id": "NWQaP_txC9j1",
      "execution_count": null,
      "outputs": [
        {
          "output_type": "stream",
          "name": "stdout",
          "text": [
            "[{'question': 'What are the main components of LangChain?', 'answer': 'The main components of LangChain are the LangChain Libraries, LangChain Templates, LangServe, and LangSmith.'}, {'question': 'What is the purpose of LangChain Libraries?', 'answer': 'The purpose of LangChain Libraries is to provide interfaces and integrations for various components, a runtime for combining these components, and off-the-shelf implementations of chains and agents for developing applications powered by language models.'}, {'question': 'What are the main components of the LangChain framework?', 'answer': 'The main components of the LangChain framework are LangChain Libraries, LangChain Templates, LangServe, and LangSmith.'}]\n"
          ]
        }
      ]
    }
  ],
  "metadata": {
    "kernelspec": {
      "display_name": "Python 3 (ipykernel)",
      "language": "python",
      "name": "python3"
    },
    "language_info": {
      "codemirror_mode": {
        "name": "ipython",
        "version": 3
      },
      "file_extension": ".py",
      "mimetype": "text/x-python",
      "name": "python",
      "nbconvert_exporter": "python",
      "pygments_lexer": "ipython3",
      "version": "3.9.12"
    },
    "colab": {
      "provenance": [],
      "include_colab_link": true
    }
  },
  "nbformat": 4,
  "nbformat_minor": 5
}